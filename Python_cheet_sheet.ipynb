{
  "nbformat": 4,
  "nbformat_minor": 0,
  "metadata": {
    "colab": {
      "provenance": [],
      "authorship_tag": "ABX9TyOBO7Hal9yiGi71JI5M0Y2Q",
      "include_colab_link": true
    },
    "kernelspec": {
      "name": "python3",
      "display_name": "Python 3"
    },
    "language_info": {
      "name": "python"
    }
  },
  "cells": [
    {
      "cell_type": "markdown",
      "metadata": {
        "id": "view-in-github",
        "colab_type": "text"
      },
      "source": [
        "<a href=\"https://colab.research.google.com/github/sujith-kumara/dsa-python/blob/main/Python_cheet_sheet.ipynb\" target=\"_parent\"><img src=\"https://colab.research.google.com/assets/colab-badge.svg\" alt=\"Open In Colab\"/></a>"
      ]
    },
    {
      "cell_type": "code",
      "execution_count": null,
      "metadata": {
        "colab": {
          "base_uri": "https://localhost:8080/"
        },
        "id": "Yi963415bdvY",
        "outputId": "d704644d-3bab-4efa-c00f-24c8c0dd6c0c"
      },
      "outputs": [
        {
          "output_type": "stream",
          "name": "stdout",
          "text": [
            "5 6 7 89 \n",
            "[5, 6, 7, 89]\n"
          ]
        }
      ],
      "source": [
        "a= list(map(int,input().split()))\n",
        "print(a)"
      ]
    },
    {
      "cell_type": "code",
      "source": [
        "s = \"hello world\"\n",
        "counts ={}\n",
        "for i in range(len(s)):\n",
        "  counts[s[i]] = 1 + counts.get(s[i],0)\n",
        "print(counts)"
      ],
      "metadata": {
        "colab": {
          "base_uri": "https://localhost:8080/"
        },
        "id": "woyvw25bb3OY",
        "outputId": "600c2699-a01c-4e88-801b-85c2d0f70309"
      },
      "execution_count": null,
      "outputs": [
        {
          "output_type": "stream",
          "name": "stdout",
          "text": [
            "{'h': 1, 'e': 1, 'l': 3, 'o': 2, ' ': 1, 'w': 1, 'r': 1, 'd': 1}\n"
          ]
        }
      ]
    },
    {
      "cell_type": "code",
      "source": [
        "a = [1,2,3]\n",
        "for i,n in enumerate(a):\n",
        "  print(i,n)"
      ],
      "metadata": {
        "colab": {
          "base_uri": "https://localhost:8080/"
        },
        "id": "mSewVktXcfH8",
        "outputId": "0198cff3-15b2-45e5-e167-32bcfdde37a2"
      },
      "execution_count": null,
      "outputs": [
        {
          "output_type": "stream",
          "name": "stdout",
          "text": [
            "0 1\n",
            "1 2\n",
            "2 3\n"
          ]
        }
      ]
    },
    {
      "cell_type": "markdown",
      "source": [
        "Maximum of array a = max(a) \n",
        "\n",
        "\n",
        "Create a set s= set()\n"
      ],
      "metadata": {
        "id": "qy5iFvwHdjEk"
      }
    },
    {
      "cell_type": "markdown",
      "source": [
        "reverse a list using recursion\n"
      ],
      "metadata": {
        "id": "dfv6XKkNejdj"
      }
    },
    {
      "cell_type": "code",
      "source": [
        "def revlist(a,start,end):\n",
        "  if start >= end:\n",
        "    return\n",
        "  a[start],a[end] = a[end],a[start]\n",
        "  revlist(a,start+1,end-1)\n",
        "\n",
        "\n",
        "a = [1,2,3,4,5]\n",
        "revlist(a,0,len(a)-1)\n",
        "print(a)"
      ],
      "metadata": {
        "colab": {
          "base_uri": "https://localhost:8080/"
        },
        "id": "fkJ3e_T5dr8G",
        "outputId": "8486f955-9ef0-4922-c58d-6dfa85ae3f1c"
      },
      "execution_count": null,
      "outputs": [
        {
          "output_type": "stream",
          "name": "stdout",
          "text": [
            "[5, 4, 3, 2, 1]\n"
          ]
        }
      ]
    },
    {
      "cell_type": "markdown",
      "source": [
        "for maximum sub array use kadanes algorithm \n",
        "\n",
        "for contains duplicates use set and member function in\n",
        "\n",
        "for chocolate distribution problem \n",
        "\n",
        "    # if there are no chocolates or number of students is 0 return 0\n",
        "    # Sort the given packets\n",
        "    # Number of students cannot be more than number of packets return -1 if so\n",
        "    # find out the largest number of difference by taking difference btw first and last array value\n",
        "    # min_diff = arr[n-1] - arr[0]\n",
        "    #for i in range(len(arr) - m + 1):\n",
        "    #    min_diff = min(min_diff,  arr[i + m - 1] - arr[i])\n",
        " \n",
        "    #return min_diff\n",
        "\n",
        "for finding the index of element in a rotated sorted array just use meber function and enumerate \n",
        "\n",
        "\n"
      ],
      "metadata": {
        "id": "xZpNk05MgztY"
      }
    },
    {
      "cell_type": "code",
      "source": [
        "squares = {1: 1, 3: 9, 5: 25, 7: 49, 9: 81}\n",
        "for i in squares:\n",
        "    print(squares[i])"
      ],
      "metadata": {
        "colab": {
          "base_uri": "https://localhost:8080/"
        },
        "id": "XKEcLpNEa2K2",
        "outputId": "5964f2c6-1110-48a4-ffe7-248a0b5dc5ca"
      },
      "execution_count": null,
      "outputs": [
        {
          "output_type": "stream",
          "name": "stdout",
          "text": [
            "1\n",
            "9\n",
            "25\n",
            "49\n",
            "81\n"
          ]
        }
      ]
    },
    {
      "cell_type": "markdown",
      "source": [
        "for searching in a rotated array use linear search methods first use membership function and return if the element is not in the list then if target==array element return index"
      ],
      "metadata": {
        "id": "BxtHNjZXE0Gm"
      }
    },
    {
      "cell_type": "markdown",
      "source": [
        "permutation"
      ],
      "metadata": {
        "id": "Ufq4xpHXCROa"
      }
    },
    {
      "cell_type": "code",
      "source": [
        "def perms(start,end=[]):\n",
        "  if len(start)==0:\n",
        "    print(end)\n",
        "  else:\n",
        "    for i in range(len(start)):\n",
        "      perms(start[:i]+start[i+1:],end+start[i:i+1])\n",
        "\n",
        "perms([1,2,3])"
      ],
      "metadata": {
        "id": "VxulOI_GoSD-",
        "colab": {
          "base_uri": "https://localhost:8080/"
        },
        "outputId": "5f0007e4-d461-4c44-b076-0921848b2f17"
      },
      "execution_count": null,
      "outputs": [
        {
          "output_type": "stream",
          "name": "stdout",
          "text": [
            "[1, 2, 3]\n",
            "[1, 3, 2]\n",
            "[2, 1, 3]\n",
            "[2, 3, 1]\n",
            "[3, 1, 2]\n",
            "[3, 2, 1]\n"
          ]
        }
      ]
    },
    {
      "cell_type": "markdown",
      "source": [
        "twosum "
      ],
      "metadata": {
        "id": "__j4RUadFJ5U"
      }
    },
    {
      "cell_type": "code",
      "source": [
        "def twosum(target,nums):\n",
        "  prevmap = {}\n",
        "  for i,n in enumerate(nums):\n",
        "    diff = target - n\n",
        "    if diff in prevmap:\n",
        "      return [prevmap[diff],i]\n",
        "    prevmap[n] = i\n",
        "\n",
        "twosum(10,[1,6,4])"
      ],
      "metadata": {
        "colab": {
          "base_uri": "https://localhost:8080/"
        },
        "id": "O-CDroeOFfyp",
        "outputId": "5f93781b-7e9a-463c-c215-9889ead3b9d9"
      },
      "execution_count": null,
      "outputs": [
        {
          "output_type": "execute_result",
          "data": {
            "text/plain": [
              "[1, 2]"
            ]
          },
          "metadata": {},
          "execution_count": 4
        }
      ]
    },
    {
      "cell_type": "markdown",
      "source": [
        "subsetsums"
      ],
      "metadata": {
        "id": "4Myk5BT5HUz9"
      }
    },
    {
      "cell_type": "code",
      "source": [
        "def subsetsums(arr,l,r,sum=0):\n",
        "  if l>r:\n",
        "    print(sum)\n",
        "    return\n",
        "  subsetsums(arr,l+1,r,sum+arr[l])\n",
        "  subsetsums(arr,l+1,r,sum)\n",
        "subsetsums([2,4,5],0,2)"
      ],
      "metadata": {
        "colab": {
          "base_uri": "https://localhost:8080/"
        },
        "id": "rq2OCL5uHYLK",
        "outputId": "6553baec-0200-44a0-dac5-02388c334563"
      },
      "execution_count": null,
      "outputs": [
        {
          "output_type": "stream",
          "name": "stdout",
          "text": [
            "11\n",
            "6\n",
            "7\n",
            "2\n",
            "9\n",
            "4\n",
            "5\n",
            "0\n"
          ]
        }
      ]
    },
    {
      "cell_type": "markdown",
      "source": [
        "print subsequence"
      ],
      "metadata": {
        "id": "1vwNFvN0Idnl"
      }
    },
    {
      "cell_type": "code",
      "source": [
        "def printsubsequence(arr,index,subarr):\n",
        "  if index==len(arr):\n",
        "    if len(subarr) != 0:\n",
        "      print(subarr)\n",
        "  else:\n",
        "    printsubsequence(arr,index+1,subarr)\n",
        "    printsubsequence(arr,index+1,subarr+[arr[index]])\n",
        "printsubsequence([1,2,3,4],0,[])"
      ],
      "metadata": {
        "colab": {
          "base_uri": "https://localhost:8080/"
        },
        "id": "yPYTD-jBIkyz",
        "outputId": "88ef905b-5f15-4288-fe87-248aabc88d41"
      },
      "execution_count": null,
      "outputs": [
        {
          "output_type": "stream",
          "name": "stdout",
          "text": [
            "[4]\n",
            "[3]\n",
            "[3, 4]\n",
            "[2]\n",
            "[2, 4]\n",
            "[2, 3]\n",
            "[2, 3, 4]\n",
            "[1]\n",
            "[1, 4]\n",
            "[1, 3]\n",
            "[1, 3, 4]\n",
            "[1, 2]\n",
            "[1, 2, 4]\n",
            "[1, 2, 3]\n",
            "[1, 2, 3, 4]\n"
          ]
        }
      ]
    },
    {
      "cell_type": "markdown",
      "source": [
        "kadanes algorithm"
      ],
      "metadata": {
        "id": "jb7Frfv-JqSu"
      }
    },
    {
      "cell_type": "code",
      "source": [
        "def kadanes(nums):\n",
        "  sums = 0\n",
        "  max_sum = nums[0]\n",
        "  for i in nums:\n",
        "    sums += i\n",
        "    max_sum = max(sums,max_sum)\n",
        "    if sums < 0:\n",
        "      sums = 0\n",
        "  print(max_sum)\n",
        "kadanes([-2, -3, 4, -1, -2, 1, 5, -3])\n"
      ],
      "metadata": {
        "colab": {
          "base_uri": "https://localhost:8080/"
        },
        "id": "YOirF66zJv8T",
        "outputId": "f4947c9c-2c98-4d52-ca7d-24aaaf9e684b"
      },
      "execution_count": null,
      "outputs": [
        {
          "output_type": "stream",
          "name": "stdout",
          "text": [
            "7\n"
          ]
        }
      ]
    },
    {
      "cell_type": "markdown",
      "source": [
        "Best time to buy and sell stocks"
      ],
      "metadata": {
        "id": "fmOTrC1rLaH8"
      }
    },
    {
      "cell_type": "code",
      "source": [
        "def profit(stocks):\n",
        "  if len(stocks) == 0:\n",
        "    return 0\n",
        "  minimum = stocks[0]\n",
        "  maximum = 0\n",
        "  temp = 0\n",
        "  for i in stocks:\n",
        "    if minimum>i:\n",
        "      minimum = i\n",
        "    temp = i - minimum\n",
        "    maximum = max(temp,maximum)\n",
        "  print(maximum)\n",
        "profit([7,1,5,3,6,4])"
      ],
      "metadata": {
        "colab": {
          "base_uri": "https://localhost:8080/"
        },
        "id": "EkLATHgGLfMz",
        "outputId": "c7d20586-cb55-4b5f-eb1e-33db3514ff7c"
      },
      "execution_count": null,
      "outputs": [
        {
          "output_type": "stream",
          "name": "stdout",
          "text": [
            "5\n"
          ]
        }
      ]
    },
    {
      "cell_type": "markdown",
      "source": [
        "merge overlapping intervals"
      ],
      "metadata": {
        "id": "Xsy_eMGygWuR"
      }
    },
    {
      "cell_type": "code",
      "source": [
        "def mergeIntervals(arr):\n",
        "  arr.sort(key=lambda x:x[0])\n",
        "  index = 0\n",
        "  for i in range(1,len(arr)):\n",
        "    if arr[index][1] >= arr[i][0]:\n",
        "      arr[index][1] = max(arr[index][1],arr[i][1])\n",
        "    else:\n",
        "       index += 1\n",
        "       arr[index] = arr[i]\n",
        "  print(\"The merged intervals are\")\n",
        "  for i in range(index+1):\n",
        "    print(arr[i],end=\"\")\n",
        "\n",
        "\n",
        "\n",
        "arr = [[6, 8], [1, 9], [2, 4], [4, 7]]\n",
        "mergeIntervals(arr)"
      ],
      "metadata": {
        "colab": {
          "base_uri": "https://localhost:8080/"
        },
        "id": "iPNzj2J8gaF5",
        "outputId": "0e521822-8cbb-435f-cb99-628722937af0"
      },
      "execution_count": null,
      "outputs": [
        {
          "output_type": "stream",
          "name": "stdout",
          "text": [
            "The merged intervals are\n",
            "[1, 9]"
          ]
        }
      ]
    },
    {
      "cell_type": "markdown",
      "source": [
        "minimum number of merge operations to make an array palindrom\n",
        "\n",
        "Let f(i, j) be minimum merging operations to make subarray arr[i..j] a palindrome. If i == j answer is 0. We start i from 0 and j from n-1.\n",
        "\n",
        "If arr[i] == arr[j], then there is no need to do any merging operations at index i or index j. Our answer in this case will be f(i+1, j-1).\n",
        "\n",
        "\n",
        "Else, we need to do merging operations. Following cases arise.\n",
        "\n",
        "If arr[i] > arr[j], then we should do merging operation at index j. We merge index j-1 and j, and update arr[j-1] = arr[j-1] + arr[j]. Our answer in this case will be 1 + f(i, j-1).\n",
        "\n",
        "\n",
        "For the case when arr[i] < arr[j], update arr[i+1] = arr[i+1] + arr[i]. Our answer in this case will be 1 + f(i+1, j).\n",
        "\n",
        "\n",
        "Our answer will be f(0, n-1), where n is the size of array arr[]."
      ],
      "metadata": {
        "id": "9mz41NAgageN"
      }
    },
    {
      "cell_type": "code",
      "source": [
        "def miniop(arr,n):\n",
        "  ans = 0\n",
        "  i,j = 0,n-1\n",
        "  while i <= j:\n",
        "    if arr[i] == arr[j]:\n",
        "      i += 1\n",
        "      j -= 1\n",
        "    elif arr[i] > arr[j]:\n",
        "      j -= 1\n",
        "      arr[j] += arr[j+1]\n",
        "      ans += 1\n",
        "    elif arr[i] < arr[j]:\n",
        "      i += 1\n",
        "      arr[i] += arr[i-1]\n",
        "      ans += 1\n",
        "  return ans\n",
        "\n",
        "arr = [1, 4, 5, 9, 1]\n",
        "n = len(arr)\n",
        "print(\"Count of minimum operations is \" + str(miniop(arr, n)))"
      ],
      "metadata": {
        "colab": {
          "base_uri": "https://localhost:8080/"
        },
        "id": "V16P9UjQaoDa",
        "outputId": "0ff004e0-2fac-4ff8-a301-e762980e1fe7"
      },
      "execution_count": null,
      "outputs": [
        {
          "output_type": "stream",
          "name": "stdout",
          "text": [
            "Count of minimum operations is 1\n"
          ]
        }
      ]
    },
    {
      "cell_type": "markdown",
      "source": [
        "Arrange given numbers to form the biggest number"
      ],
      "metadata": {
        "id": "DMcaHLfcckjR"
      }
    },
    {
      "cell_type": "code",
      "source": [
        "def largestno(arr):\n",
        "  \n",
        "  if len(arr) == 1:\n",
        "    return str(arr[0])\n",
        "  for i in range(len(arr)):\n",
        "    arr[i] = str(arr[i])\n",
        "  for i in range(len(arr)):\n",
        "    for j in range(i+1,len(arr)):\n",
        "      if arr[j]+arr[i] > arr[i]+arr[j]:\n",
        "        arr[i],arr[j] = arr[j],arr[i]\n",
        "  result = \"\".join(arr) \n",
        "  if result == 0*len(result) :\n",
        "    return \"0\"\n",
        "  else:\n",
        "    return result\n",
        "\n",
        "a = [54, 546, 548, 60]\n",
        "print(largestno(a))"
      ],
      "metadata": {
        "id": "q1G4X5lPcorS",
        "colab": {
          "base_uri": "https://localhost:8080/"
        },
        "outputId": "2b3f38d3-cefa-4825-e671-3eb60c60e873"
      },
      "execution_count": 3,
      "outputs": [
        {
          "output_type": "stream",
          "name": "stdout",
          "text": [
            "6054854654\n"
          ]
        }
      ]
    },
    {
      "cell_type": "code",
      "source": [
        "def pattern(n):\n",
        "  for i in range(n):\n",
        "    for j in range(i+1):\n",
        "      print(\"* \",end=\"\")\n",
        "    print()\n",
        "    \n",
        "\n",
        "pattern(5)"
      ],
      "metadata": {
        "colab": {
          "base_uri": "https://localhost:8080/"
        },
        "id": "2jAdVGSIroDl",
        "outputId": "df93d42a-1fd9-4323-d21a-86d8338305d2"
      },
      "execution_count": 5,
      "outputs": [
        {
          "output_type": "stream",
          "name": "stdout",
          "text": [
            "* \n",
            "* * \n",
            "* * * \n",
            "* * * * \n",
            "* * * * * \n"
          ]
        }
      ]
    },
    {
      "cell_type": "code",
      "source": [
        "def pattern(n):\n",
        "  for i in range(n-1,-1,-1):\n",
        "    for j in range(i+1):\n",
        "      print(\"* \",end=\"\")\n",
        "    print()\n",
        "    \n",
        "\n",
        "pattern(5)"
      ],
      "metadata": {
        "colab": {
          "base_uri": "https://localhost:8080/"
        },
        "id": "aTkLLqzNsDiM",
        "outputId": "f86095d0-a71c-4fa1-e1ce-004698eb3387"
      },
      "execution_count": 6,
      "outputs": [
        {
          "output_type": "stream",
          "name": "stdout",
          "text": [
            "* * * * * \n",
            "* * * * \n",
            "* * * \n",
            "* * \n",
            "* \n"
          ]
        }
      ]
    },
    {
      "cell_type": "code",
      "source": [
        "def pattern(n):\n",
        "  k = n-1\n",
        "  for i in range(n):\n",
        "    for j in range(k):\n",
        "      print(\" \",end=\"\")\n",
        "    for j in range(i+1):\n",
        "      print(\"* \",end=\"\")\n",
        "    k -= 1\n",
        "    print()\n",
        "    \n",
        "\n",
        "pattern(5)"
      ],
      "metadata": {
        "colab": {
          "base_uri": "https://localhost:8080/"
        },
        "id": "lN6yWr9ksKpC",
        "outputId": "cbc90e2a-f71c-4ad8-9f18-04eac90f7646"
      },
      "execution_count": 9,
      "outputs": [
        {
          "output_type": "stream",
          "name": "stdout",
          "text": [
            "    * \n",
            "   * * \n",
            "  * * * \n",
            " * * * * \n",
            "* * * * * \n"
          ]
        }
      ]
    },
    {
      "cell_type": "code",
      "source": [
        "def pattern(n):\n",
        "  k = 0\n",
        "  for i in range(n-1,-1,-1):\n",
        "    for j in range(k):\n",
        "      print(\" \",end=\"\")\n",
        "    for j in range(i+1):\n",
        "      print(\"* \",end=\"\")\n",
        "    k += 1\n",
        "    print()\n",
        "    \n",
        "\n",
        "pattern(5)"
      ],
      "metadata": {
        "colab": {
          "base_uri": "https://localhost:8080/"
        },
        "id": "bYwmE7fNsrjE",
        "outputId": "e1c95fbf-24e4-498c-f5ff-500db4fceba8"
      },
      "execution_count": 11,
      "outputs": [
        {
          "output_type": "stream",
          "name": "stdout",
          "text": [
            "* * * * * \n",
            " * * * * \n",
            "  * * * \n",
            "   * * \n",
            "    * \n"
          ]
        }
      ]
    },
    {
      "cell_type": "code",
      "source": [
        "def pattern(n):\n",
        "  k = n-1\n",
        "  for i in range(n):\n",
        "    for j in range(k):\n",
        "      print(\" \",end=\"\")\n",
        "    for j in range(i+1):\n",
        "      print(\"* \",end=\"\")\n",
        "    k -= 1\n",
        "    print()\n",
        "  k = 1\n",
        "  for i in range(n-2,-1,-1):\n",
        "    for j in range(k):\n",
        "      print(\" \",end=\"\")\n",
        "    for j in range(i+1):\n",
        "      print(\"* \",end=\"\")\n",
        "    k += 1\n",
        "    print()\n",
        "    \n",
        "\n",
        "pattern(5)"
      ],
      "metadata": {
        "colab": {
          "base_uri": "https://localhost:8080/"
        },
        "id": "V3OOzT3cs2Pk",
        "outputId": "0b176c8a-ca4e-444c-bdfe-1509edf92a96"
      },
      "execution_count": 14,
      "outputs": [
        {
          "output_type": "stream",
          "name": "stdout",
          "text": [
            "    * \n",
            "   * * \n",
            "  * * * \n",
            " * * * * \n",
            "* * * * * \n",
            " * * * * \n",
            "  * * * \n",
            "   * * \n",
            "    * \n"
          ]
        }
      ]
    }
  ]
}